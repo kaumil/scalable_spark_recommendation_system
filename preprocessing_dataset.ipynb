{
 "cells": [
  {
   "cell_type": "code",
   "execution_count": 63,
   "metadata": {},
   "outputs": [],
   "source": [
    "import os\n",
    "import pandas as pd"
   ]
  },
  {
   "cell_type": "code",
   "execution_count": 64,
   "metadata": {},
   "outputs": [],
   "source": [
    "#defining the paths for the MovieLens dataset\n",
    "PATH = r\"C:\\Users\\Kaumil-Trivedi\\Documents\\kaumil\\datasets\\ml-1m\\ml-1m\""
   ]
  },
  {
   "cell_type": "markdown",
   "metadata": {},
   "source": [
    "# Defining Column Names and DataTypes "
   ]
  },
  {
   "cell_type": "code",
   "execution_count": 65,
   "metadata": {},
   "outputs": [],
   "source": [
    "#Ratings\n",
    "df_rating_columns = [\"UserID\",\"MovieID\",\"Rating\",\"Timestamp\"]\n",
    "df_rating_types = {\n",
    "    \"0\": \"int16\",\n",
    "    \"1\": \"int16\",\n",
    "    \"2\": \"int16\",\n",
    "    \"3\": \"int32\"\n",
    "}\n",
    "\n",
    "#Movies\n",
    "df_movies_columns = [\"MovieID\",\"Title\",\"Genres\"]\n",
    "df_movies_types = {\n",
    "    \"0\": \"int16\",\n",
    "    \"1\": \"str\",\n",
    "    \"2\": \"str\"\n",
    "}\n",
    "\n",
    "#Users\n",
    "df_users_columns = [\"UserID\",\"Gender\",\"Age\",\"Occupation\",\"Zip-code\"]\n",
    "df_users_types = {\n",
    "    \"0\":\"int8\",\n",
    "    \"1\":\"str\",\n",
    "    \"2\":\"int8\",\n",
    "    \"3\":\"int8\",\n",
    "    \"4\":\"int16\"\n",
    "}"
   ]
  },
  {
   "cell_type": "markdown",
   "metadata": {},
   "source": [
    "# Reading Data for the first time"
   ]
  },
  {
   "cell_type": "code",
   "execution_count": 66,
   "metadata": {},
   "outputs": [
    {
     "name": "stdout",
     "output_type": "stream",
     "text": [
      "Ratings read time\n",
      "Wall time: 3.61 s\n",
      "============================================================\n",
      "Movies read time\n",
      "Wall time: 12 ms\n",
      "============================================================\n",
      "Users read time\n",
      "Wall time: 19.9 ms\n",
      "============================================================\n"
     ]
    }
   ],
   "source": [
    "print(\"Ratings read time\")\n",
    "%time df_rating = pd.read_csv(os.path.join(PATH,\"ratings.dat\"),engine=\"python\",header=None,squeeze=True,sep=\"::\",dtype=df_rating_types,names=df_rating_columns)\n",
    "print(\"==\"*30)\n",
    "\n",
    "print(\"Movies read time\")\n",
    "%time df_movies = pd.read_csv(os.path.join(PATH,\"movies.dat\"),engine=\"python\",header=None,squeeze=True,sep=\"::\",dtype=df_movies_types,names=df_movies_columns)\n",
    "print(\"==\"*30)\n",
    "\n",
    "print(\"Users read time\")\n",
    "%time df_users = pd.read_csv(os.path.join(PATH,\"users.dat\"),engine=\"python\",header=None,squeeze=True,sep=\"::\",dtype=df_users_types,names=df_users_columns)\n",
    "print(\"==\"*30)"
   ]
  },
  {
   "cell_type": "markdown",
   "metadata": {},
   "source": [
    "# Converting the data to feather formats"
   ]
  },
  {
   "cell_type": "code",
   "execution_count": 67,
   "metadata": {},
   "outputs": [],
   "source": [
    "df_rating.to_feather(os.path.join(PATH,\"ratings.feather\"))\n",
    "\n",
    "df_movies.to_feather(os.path.join(PATH,\"movies.feather\"))\n",
    "\n",
    "df_users.to_feather(os.path.join(PATH,\"users.feather\"))"
   ]
  },
  {
   "cell_type": "markdown",
   "metadata": {},
   "source": [
    "# Reading the feather files for speedtest"
   ]
  },
  {
   "cell_type": "code",
   "execution_count": 68,
   "metadata": {},
   "outputs": [
    {
     "name": "stdout",
     "output_type": "stream",
     "text": [
      "Ratings read time\n",
      "Wall time: 29.3 ms\n",
      "============================================================\n",
      "Movies read time\n",
      "Wall time: 1.99 ms\n",
      "============================================================\n",
      "Users read time\n",
      "Wall time: 1.99 ms\n",
      "============================================================\n"
     ]
    },
    {
     "name": "stderr",
     "output_type": "stream",
     "text": [
      "C:\\Users\\Kaumil-Trivedi\\AppData\\Local\\conda\\conda\\envs\\py35gpu\\lib\\site-packages\\pandas\\io\\feather_format.py:112: FutureWarning: `nthreads` argument is deprecated, pass `use_threads` instead\n",
      "  return feather.read_dataframe(path, nthreads=nthreads)\n",
      "C:\\Users\\Kaumil-Trivedi\\AppData\\Local\\conda\\conda\\envs\\py35gpu\\lib\\site-packages\\pandas\\io\\feather_format.py:112: FutureWarning: `nthreads` argument is deprecated, pass `use_threads` instead\n",
      "  return feather.read_dataframe(path, nthreads=nthreads)\n",
      "C:\\Users\\Kaumil-Trivedi\\AppData\\Local\\conda\\conda\\envs\\py35gpu\\lib\\site-packages\\pandas\\io\\feather_format.py:112: FutureWarning: `nthreads` argument is deprecated, pass `use_threads` instead\n",
      "  return feather.read_dataframe(path, nthreads=nthreads)\n"
     ]
    }
   ],
   "source": [
    "print(\"Ratings read time\")\n",
    "%time df_ratings = pd.read_feather(os.path.join(PATH,\"ratings.feather\"),nthreads=-1)\n",
    "print(\"==\"*30)\n",
    "\n",
    "print(\"Movies read time\")\n",
    "%time df_movies = pd.read_feather(os.path.join(PATH,\"movies.feather\"),nthreads=-1)\n",
    "print(\"==\"*30)\n",
    "\n",
    "print(\"Users read time\")\n",
    "%time df_users = pd.read_feather(os.path.join(PATH,\"users.feather\"),nthreads=-1)\n",
    "print(\"==\"*30)"
   ]
  },
  {
   "cell_type": "code",
   "execution_count": null,
   "metadata": {},
   "outputs": [],
   "source": []
  }
 ],
 "metadata": {
  "kernelspec": {
   "display_name": "Python 3",
   "language": "python",
   "name": "python3"
  },
  "language_info": {
   "codemirror_mode": {
    "name": "ipython",
    "version": 3
   },
   "file_extension": ".py",
   "mimetype": "text/x-python",
   "name": "python",
   "nbconvert_exporter": "python",
   "pygments_lexer": "ipython3",
   "version": "3.5.6"
  }
 },
 "nbformat": 4,
 "nbformat_minor": 2
}
